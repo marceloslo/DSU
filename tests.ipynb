{
 "cells": [
  {
   "cell_type": "code",
   "execution_count": 53,
   "metadata": {},
   "outputs": [],
   "source": [
    "from DSU import DisjointSet, DisjointSetWithBoth, DisjointSetWithPathCompression,DisjointSetWithRankOptimization, find, union\n",
    "import random\n",
    "import time\n",
    "from statistics import mean\n",
    "import pandas as pd\n",
    "import matplotlib.pyplot as plt"
   ]
  },
  {
   "cell_type": "code",
   "execution_count": 19,
   "metadata": {},
   "outputs": [],
   "source": [
    "def testDsus(dsus,nops,size,ratio=0.7):\n",
    "    for i in range(nops):\n",
    "        op = random.random()\n",
    "        if op < ratio:\n",
    "            x = dsus[random.randint(0, size-1)]\n",
    "            find(x)\n",
    "        else:\n",
    "            x = dsus[random.randint(0, size-1)]\n",
    "            y = dsus[random.randint(0, size-1)]\n",
    "            union(x,y)"
   ]
  },
  {
   "cell_type": "code",
   "execution_count": 20,
   "metadata": {},
   "outputs": [],
   "source": [
    "def testAll(size,nops,ratio,repeats=30,skipFirst=False):\n",
    "    print(f'Testing with {ratio} find ratio')\n",
    "    woheur=None\n",
    "    if not skipFirst:\n",
    "        times = []\n",
    "        for i in range(repeats):\n",
    "            random.seed(i)\n",
    "            dsus = []\n",
    "            for i in range(size):\n",
    "                dsus.append(DisjointSet(i))\n",
    "\n",
    "            start = time.time()\n",
    "\n",
    "            testDsus(dsus,nops,size)\n",
    "            times.append(time.time() - start)\n",
    "        woheur=mean(times)\n",
    "        print('Without heuristics:', woheur)\n",
    "\n",
    "    times = []\n",
    "    for i in range(repeats):\n",
    "        random.seed(i)\n",
    "        dsus = []\n",
    "        for i in range(size):\n",
    "            dsus.append(DisjointSetWithPathCompression(i))\n",
    "\n",
    "        start = time.time()\n",
    "\n",
    "        testDsus(dsus,nops,size)\n",
    "        times.append(time.time() - start)\n",
    "    wpathcompression= mean(times)\n",
    "    print('With path compression:', wpathcompression )\n",
    "\n",
    "    times = []\n",
    "    for i in range(repeats):\n",
    "        random.seed(i)\n",
    "        dsus = []\n",
    "        for i in range(size):\n",
    "            dsus.append(DisjointSetWithRankOptimization(i))\n",
    "\n",
    "        start = time.time()\n",
    "\n",
    "        testDsus(dsus,nops,size)\n",
    "        times.append(time.time() - start)\n",
    "    wrankopt= mean(times)    \n",
    "    print('With rank optimization:', wrankopt)\n",
    "\n",
    "    times = []\n",
    "    for i in range(repeats):\n",
    "        random.seed(i)\n",
    "        dsus = []\n",
    "        for i in range(size):\n",
    "            dsus.append(DisjointSetWithBoth(i))\n",
    "\n",
    "        start = time.time()\n",
    "\n",
    "        testDsus(dsus,nops,size)\n",
    "        times.append(time.time() - start)\n",
    "    wboth = mean(times)\n",
    "    print('With both:', wboth)\n",
    "    return [woheur,wpathcompression,wrankopt,wboth]\n"
   ]
  },
  {
   "cell_type": "code",
   "execution_count": 36,
   "metadata": {},
   "outputs": [],
   "source": [
    "df = pd.DataFrame(columns=['N','M','Find ratio','Without heuristics','Path compression','Rank Optimization','Both heuristics'])"
   ]
  },
  {
   "cell_type": "code",
   "execution_count": 37,
   "metadata": {},
   "outputs": [
    {
     "name": "stdout",
     "output_type": "stream",
     "text": [
      "Testing with 0.9 find ratio\n",
      "Without heuristics: 26.211702966690062\n",
      "With path compression: 0.36321696440378826\n",
      "With rank optimization: 0.3302006165186564\n",
      "With both: 0.3274996836980184\n"
     ]
    }
   ],
   "source": [
    "size = 10000\n",
    "nops = 100000\n",
    "findratio = 0.9\n",
    "\n",
    "res=testAll(size,nops,findratio)\n",
    "line = [size,nops,findratio]\n",
    "line.extend(res)\n",
    "df.loc[len(df)]= line"
   ]
  },
  {
   "cell_type": "code",
   "execution_count": 38,
   "metadata": {},
   "outputs": [
    {
     "name": "stdout",
     "output_type": "stream",
     "text": [
      "Testing with 0.8 find ratio\n",
      "Without heuristics: 23.298635387420653\n",
      "With path compression: 0.3202000697453817\n",
      "With rank optimization: 0.28786802291870117\n",
      "With both: 0.28403300444285073\n"
     ]
    }
   ],
   "source": [
    "size = 10000\n",
    "nops = 100000\n",
    "findratio = 0.8\n",
    "\n",
    "res=testAll(size,nops,findratio)\n",
    "line = [size,nops,findratio]\n",
    "line.extend(res)\n",
    "df.loc[len(df)]= line"
   ]
  },
  {
   "cell_type": "code",
   "execution_count": 39,
   "metadata": {},
   "outputs": [
    {
     "name": "stdout",
     "output_type": "stream",
     "text": [
      "Testing with 0.7 find ratio\n",
      "Without heuristics: 22.85383311112722\n",
      "With path compression: 0.31406621138254803\n",
      "With rank optimization: 0.2835670073827108\n",
      "With both: 0.28510022163391113\n"
     ]
    }
   ],
   "source": [
    "size = 10000\n",
    "nops = 100000\n",
    "findratio = 0.7\n",
    "\n",
    "res=testAll(size,nops,findratio)\n",
    "line = [size,nops,findratio]\n",
    "line.extend(res)\n",
    "df.loc[len(df)]= line"
   ]
  },
  {
   "cell_type": "code",
   "execution_count": 40,
   "metadata": {},
   "outputs": [
    {
     "name": "stdout",
     "output_type": "stream",
     "text": [
      "Testing with 0.6 find ratio\n",
      "Without heuristics: 22.88286762237549\n",
      "With path compression: 0.31196688016255697\n",
      "With rank optimization: 0.2824368158976237\n",
      "With both: 0.2831674655278524\n"
     ]
    }
   ],
   "source": [
    "size = 10000\n",
    "nops = 100000\n",
    "findratio = 0.6\n",
    "\n",
    "res=testAll(size,nops,findratio)\n",
    "line = [size,nops,findratio]\n",
    "line.extend(res)\n",
    "df.loc[len(df)]= line"
   ]
  },
  {
   "cell_type": "code",
   "execution_count": 41,
   "metadata": {},
   "outputs": [
    {
     "name": "stdout",
     "output_type": "stream",
     "text": [
      "Testing with 0.5 find ratio\n",
      "Without heuristics: 22.94579995473226\n",
      "With path compression: 0.3123340924580892\n",
      "With rank optimization: 0.28836716810862223\n",
      "With both: 0.28653341929117837\n"
     ]
    }
   ],
   "source": [
    "size = 10000\n",
    "nops = 100000\n",
    "findratio = 0.5\n",
    "\n",
    "res=testAll(size,nops,findratio)\n",
    "line = [size,nops,findratio]\n",
    "line.extend(res)\n",
    "df.loc[len(df)]= line"
   ]
  },
  {
   "cell_type": "code",
   "execution_count": 42,
   "metadata": {},
   "outputs": [
    {
     "name": "stdout",
     "output_type": "stream",
     "text": [
      "Testing with 0.4 find ratio\n",
      "Without heuristics: 22.973464306195577\n",
      "With path compression: 0.3161660353342692\n",
      "With rank optimization: 0.2868003765741984\n",
      "With both: 0.28863413333892823\n"
     ]
    }
   ],
   "source": [
    "size = 10000\n",
    "nops = 100000\n",
    "findratio = 0.4\n",
    "\n",
    "res=testAll(size,nops,findratio)\n",
    "line = [size,nops,findratio]\n",
    "line.extend(res)\n",
    "df.loc[len(df)]= line"
   ]
  },
  {
   "cell_type": "code",
   "execution_count": 43,
   "metadata": {},
   "outputs": [
    {
     "name": "stdout",
     "output_type": "stream",
     "text": [
      "Testing with 0.3 find ratio\n",
      "Without heuristics: 22.40216519832611\n",
      "With path compression: 0.3078899383544922\n",
      "With rank optimization: 0.27610653241475425\n",
      "With both: 0.27664779822031654\n"
     ]
    }
   ],
   "source": [
    "size = 10000\n",
    "nops = 100000\n",
    "findratio = 0.3\n",
    "\n",
    "res=testAll(size,nops,findratio)\n",
    "line = [size,nops,findratio]\n",
    "line.extend(res)\n",
    "df.loc[len(df)]= line"
   ]
  },
  {
   "cell_type": "code",
   "execution_count": 44,
   "metadata": {},
   "outputs": [
    {
     "name": "stdout",
     "output_type": "stream",
     "text": [
      "Testing with 0.2 find ratio\n",
      "Without heuristics: 22.966380039850872\n",
      "With path compression: 0.3575666268666585\n",
      "With rank optimization: 0.31743382612864174\n",
      "With both: 0.29213294982910154\n"
     ]
    }
   ],
   "source": [
    "size = 10000\n",
    "nops = 100000\n",
    "findratio = 0.2\n",
    "\n",
    "res=testAll(size,nops,findratio)\n",
    "line = [size,nops,findratio]\n",
    "line.extend(res)\n",
    "df.loc[len(df)]= line"
   ]
  },
  {
   "cell_type": "code",
   "execution_count": 45,
   "metadata": {},
   "outputs": [
    {
     "name": "stdout",
     "output_type": "stream",
     "text": [
      "Testing with 0.1 find ratio\n",
      "Without heuristics: 24.85571431318919\n",
      "With path compression: 0.3609499851862589\n",
      "With rank optimization: 0.3310668389002482\n",
      "With both: 0.3517036199569702\n"
     ]
    }
   ],
   "source": [
    "size = 10000\n",
    "nops = 100000\n",
    "findratio = 0.1\n",
    "\n",
    "res=testAll(size,nops,findratio)\n",
    "line = [size,nops,findratio]\n",
    "line.extend(res)\n",
    "df.loc[len(df)]= line"
   ]
  },
  {
   "cell_type": "code",
   "execution_count": 46,
   "metadata": {},
   "outputs": [
    {
     "data": {
      "text/html": [
       "<div>\n",
       "<style scoped>\n",
       "    .dataframe tbody tr th:only-of-type {\n",
       "        vertical-align: middle;\n",
       "    }\n",
       "\n",
       "    .dataframe tbody tr th {\n",
       "        vertical-align: top;\n",
       "    }\n",
       "\n",
       "    .dataframe thead th {\n",
       "        text-align: right;\n",
       "    }\n",
       "</style>\n",
       "<table border=\"1\" class=\"dataframe\">\n",
       "  <thead>\n",
       "    <tr style=\"text-align: right;\">\n",
       "      <th></th>\n",
       "      <th>N</th>\n",
       "      <th>M</th>\n",
       "      <th>Find ratio</th>\n",
       "      <th>Without heuristics</th>\n",
       "      <th>Path compression</th>\n",
       "      <th>Rank Optimization</th>\n",
       "      <th>Both heuristics</th>\n",
       "    </tr>\n",
       "  </thead>\n",
       "  <tbody>\n",
       "    <tr>\n",
       "      <th>0</th>\n",
       "      <td>10000.0</td>\n",
       "      <td>100000.0</td>\n",
       "      <td>0.9</td>\n",
       "      <td>26.211703</td>\n",
       "      <td>0.363217</td>\n",
       "      <td>0.330201</td>\n",
       "      <td>0.327500</td>\n",
       "    </tr>\n",
       "    <tr>\n",
       "      <th>1</th>\n",
       "      <td>10000.0</td>\n",
       "      <td>100000.0</td>\n",
       "      <td>0.8</td>\n",
       "      <td>23.298635</td>\n",
       "      <td>0.320200</td>\n",
       "      <td>0.287868</td>\n",
       "      <td>0.284033</td>\n",
       "    </tr>\n",
       "    <tr>\n",
       "      <th>2</th>\n",
       "      <td>10000.0</td>\n",
       "      <td>100000.0</td>\n",
       "      <td>0.7</td>\n",
       "      <td>22.853833</td>\n",
       "      <td>0.314066</td>\n",
       "      <td>0.283567</td>\n",
       "      <td>0.285100</td>\n",
       "    </tr>\n",
       "    <tr>\n",
       "      <th>3</th>\n",
       "      <td>10000.0</td>\n",
       "      <td>100000.0</td>\n",
       "      <td>0.6</td>\n",
       "      <td>22.882868</td>\n",
       "      <td>0.311967</td>\n",
       "      <td>0.282437</td>\n",
       "      <td>0.283167</td>\n",
       "    </tr>\n",
       "    <tr>\n",
       "      <th>4</th>\n",
       "      <td>10000.0</td>\n",
       "      <td>100000.0</td>\n",
       "      <td>0.5</td>\n",
       "      <td>22.945800</td>\n",
       "      <td>0.312334</td>\n",
       "      <td>0.288367</td>\n",
       "      <td>0.286533</td>\n",
       "    </tr>\n",
       "    <tr>\n",
       "      <th>5</th>\n",
       "      <td>10000.0</td>\n",
       "      <td>100000.0</td>\n",
       "      <td>0.4</td>\n",
       "      <td>22.973464</td>\n",
       "      <td>0.316166</td>\n",
       "      <td>0.286800</td>\n",
       "      <td>0.288634</td>\n",
       "    </tr>\n",
       "    <tr>\n",
       "      <th>6</th>\n",
       "      <td>10000.0</td>\n",
       "      <td>100000.0</td>\n",
       "      <td>0.3</td>\n",
       "      <td>22.402165</td>\n",
       "      <td>0.307890</td>\n",
       "      <td>0.276107</td>\n",
       "      <td>0.276648</td>\n",
       "    </tr>\n",
       "    <tr>\n",
       "      <th>7</th>\n",
       "      <td>10000.0</td>\n",
       "      <td>100000.0</td>\n",
       "      <td>0.2</td>\n",
       "      <td>22.966380</td>\n",
       "      <td>0.357567</td>\n",
       "      <td>0.317434</td>\n",
       "      <td>0.292133</td>\n",
       "    </tr>\n",
       "    <tr>\n",
       "      <th>8</th>\n",
       "      <td>10000.0</td>\n",
       "      <td>100000.0</td>\n",
       "      <td>0.1</td>\n",
       "      <td>24.855714</td>\n",
       "      <td>0.360950</td>\n",
       "      <td>0.331067</td>\n",
       "      <td>0.351704</td>\n",
       "    </tr>\n",
       "  </tbody>\n",
       "</table>\n",
       "</div>"
      ],
      "text/plain": [
       "         N         M  Find ratio  Without heuristics  Path compression  \\\n",
       "0  10000.0  100000.0         0.9           26.211703          0.363217   \n",
       "1  10000.0  100000.0         0.8           23.298635          0.320200   \n",
       "2  10000.0  100000.0         0.7           22.853833          0.314066   \n",
       "3  10000.0  100000.0         0.6           22.882868          0.311967   \n",
       "4  10000.0  100000.0         0.5           22.945800          0.312334   \n",
       "5  10000.0  100000.0         0.4           22.973464          0.316166   \n",
       "6  10000.0  100000.0         0.3           22.402165          0.307890   \n",
       "7  10000.0  100000.0         0.2           22.966380          0.357567   \n",
       "8  10000.0  100000.0         0.1           24.855714          0.360950   \n",
       "\n",
       "   Rank Optimization  Both heuristics  \n",
       "0           0.330201         0.327500  \n",
       "1           0.287868         0.284033  \n",
       "2           0.283567         0.285100  \n",
       "3           0.282437         0.283167  \n",
       "4           0.288367         0.286533  \n",
       "5           0.286800         0.288634  \n",
       "6           0.276107         0.276648  \n",
       "7           0.317434         0.292133  \n",
       "8           0.331067         0.351704  "
      ]
     },
     "execution_count": 46,
     "metadata": {},
     "output_type": "execute_result"
    }
   ],
   "source": [
    "df"
   ]
  },
  {
   "cell_type": "code",
   "execution_count": 57,
   "metadata": {},
   "outputs": [
    {
     "data": {
      "image/png": "[encoded data removed]",
      "text/plain": [
       "<Figure size 432x288 with 1 Axes>"
      ]
     },
     "metadata": {
      "needs_background": "light"
     },
     "output_type": "display_data"
    }
   ],
   "source": [
    "for i in df[['Path compression','Rank Optimization','Both heuristics']]:\n",
    "    plt.plot(df['Find ratio'],df[i],label=i,marker ='o')\n",
    "plt.xlabel('Find ratio')\n",
    "plt.ylabel('Time(s)')\n",
    "plt.legend()\n",
    "plt.show()"
   ]
  },
  {
   "cell_type": "markdown",
   "metadata": {},
   "source": [
    "# Testando performance das heuristicas qnd M e N crescem"
   ]
  },
  {
   "cell_type": "code",
   "execution_count": 33,
   "metadata": {},
   "outputs": [],
   "source": [
    "graphBase = pd.DataFrame(columns=['N','M','Without heuristics','Path compression','Rank Optimization','Both heuristics'])"
   ]
  },
  {
   "cell_type": "code",
   "execution_count": 82,
   "metadata": {},
   "outputs": [
    {
     "name": "stdout",
     "output_type": "stream",
     "text": [
      "Testing with 0.5 find ratio\n",
      "Without heuristics: 62.55410623550415\n",
      "With path compression: 26.639517498016357\n",
      "With rank optimization: 27.45835700035095\n",
      "With both: 28.07704327106476\n"
     ]
    }
   ],
   "source": [
    "size = 100\n",
    "nops = 10000000\n",
    "\n",
    "\n",
    "\n",
    "res = testAll(size,nops,0.5,10,False)\n",
    "line = [size,nops]\n",
    "line.extend(res)\n",
    "graphBase.loc[len(graphBase)]= line"
   ]
  },
  {
   "cell_type": "code",
   "execution_count": 47,
   "metadata": {},
   "outputs": [
    {
     "name": "stdout",
     "output_type": "stream",
     "text": [
      "Testing with 0.5 find ratio\n",
      "Without heuristics: 351.17670414447787\n",
      "With path compression: 28.02393548488617\n",
      "With rank optimization: 28.232699465751647\n",
      "With both: 28.004107236862183\n"
     ]
    }
   ],
   "source": [
    "size = 1000\n",
    "nops = 10000000\n",
    "\n",
    "\n",
    "res = testAll(size,nops,0.5,10,False)\n",
    "line = [size,nops]\n",
    "line.extend(res)\n",
    "graphBase.loc[len(graphBase)]= line"
   ]
  },
  {
   "cell_type": "code",
   "execution_count": 48,
   "metadata": {},
   "outputs": [
    {
     "name": "stdout",
     "output_type": "stream",
     "text": [
      "Testing with 0.5 find ratio\n",
      "With path compression: 26.95712742805481\n",
      "With rank optimization: 28.91009063720703\n",
      "With both: 28.237901353836058\n"
     ]
    }
   ],
   "source": [
    "size = 10000\n",
    "nops = 10000000\n",
    "\n",
    "\n",
    "res = testAll(size,nops,0.5,10,True)\n",
    "line = [size,nops]\n",
    "line.extend(res)\n",
    "graphBase.loc[len(graphBase)]= line"
   ]
  },
  {
   "cell_type": "code",
   "execution_count": 49,
   "metadata": {},
   "outputs": [
    {
     "name": "stdout",
     "output_type": "stream",
     "text": [
      "Testing with 0.5 find ratio\n",
      "With path compression: 29.208583211898805\n",
      "With rank optimization: 31.772557663917542\n",
      "With both: 30.69761562347412\n"
     ]
    }
   ],
   "source": [
    "size = 100000\n",
    "nops = 10000000\n",
    "\n",
    "\n",
    "res = testAll(size,nops,0.5,10,True)\n",
    "line = [size,nops]\n",
    "line.extend(res)\n",
    "graphBase.loc[len(graphBase)]= line"
   ]
  },
  {
   "cell_type": "code",
   "execution_count": 50,
   "metadata": {},
   "outputs": [
    {
     "name": "stdout",
     "output_type": "stream",
     "text": [
      "Testing with 0.5 find ratio\n",
      "With path compression: 40.75686373710632\n",
      "With rank optimization: 34.892935967445375\n",
      "With both: 33.611916065216064\n"
     ]
    }
   ],
   "source": [
    "size = 1000000\n",
    "nops = 10000000\n",
    "\n",
    "\n",
    "res = testAll(size,nops,0.5,10,True)\n",
    "line = [size,nops]\n",
    "line.extend(res)\n",
    "graphBase.loc[len(graphBase)]= line"
   ]
  },
  {
   "cell_type": "code",
   "execution_count": 64,
   "metadata": {},
   "outputs": [
    {
     "name": "stdout",
     "output_type": "stream",
     "text": [
      "Testing with 0.5 find ratio\n",
      "With path compression: 38.38501198291779\n",
      "With rank optimization: 34.312521600723265\n",
      "With both: 32.44102749824524\n"
     ]
    }
   ],
   "source": [
    "size = 500000\n",
    "nops = 10000000\n",
    "\n",
    "\n",
    "res = testAll(size,nops,0.5,10,True)\n",
    "line = [size,nops]\n",
    "line.extend(res)\n",
    "graphBase.loc[len(graphBase)]= line"
   ]
  },
  {
   "cell_type": "code",
   "execution_count": 80,
   "metadata": {},
   "outputs": [
    {
     "data": {
      "text/html": [
       "<div>\n",
       "<style scoped>\n",
       "    .dataframe tbody tr th:only-of-type {\n",
       "        vertical-align: middle;\n",
       "    }\n",
       "\n",
       "    .dataframe tbody tr th {\n",
       "        vertical-align: top;\n",
       "    }\n",
       "\n",
       "    .dataframe thead th {\n",
       "        text-align: right;\n",
       "    }\n",
       "</style>\n",
       "<table border=\"1\" class=\"dataframe\">\n",
       "  <thead>\n",
       "    <tr style=\"text-align: right;\">\n",
       "      <th></th>\n",
       "      <th>N</th>\n",
       "      <th>M</th>\n",
       "      <th>Without heuristics</th>\n",
       "      <th>Path compression</th>\n",
       "      <th>Rank Optimization</th>\n",
       "      <th>Both heuristics</th>\n",
       "    </tr>\n",
       "  </thead>\n",
       "  <tbody>\n",
       "    <tr>\n",
       "      <th>6</th>\n",
       "      <td>100.0</td>\n",
       "      <td>10000000.0</td>\n",
       "      <td>NaN</td>\n",
       "      <td>26.952810</td>\n",
       "      <td>27.265362</td>\n",
       "      <td>27.895227</td>\n",
       "    </tr>\n",
       "    <tr>\n",
       "      <th>1</th>\n",
       "      <td>1000.0</td>\n",
       "      <td>10000000.0</td>\n",
       "      <td>351.176704</td>\n",
       "      <td>28.023935</td>\n",
       "      <td>28.232699</td>\n",
       "      <td>28.004107</td>\n",
       "    </tr>\n",
       "    <tr>\n",
       "      <th>2</th>\n",
       "      <td>10000.0</td>\n",
       "      <td>10000000.0</td>\n",
       "      <td>NaN</td>\n",
       "      <td>26.957127</td>\n",
       "      <td>28.910091</td>\n",
       "      <td>28.237901</td>\n",
       "    </tr>\n",
       "    <tr>\n",
       "      <th>3</th>\n",
       "      <td>100000.0</td>\n",
       "      <td>10000000.0</td>\n",
       "      <td>NaN</td>\n",
       "      <td>29.208583</td>\n",
       "      <td>31.772558</td>\n",
       "      <td>30.697616</td>\n",
       "    </tr>\n",
       "    <tr>\n",
       "      <th>4</th>\n",
       "      <td>1000000.0</td>\n",
       "      <td>10000000.0</td>\n",
       "      <td>NaN</td>\n",
       "      <td>40.756864</td>\n",
       "      <td>34.892936</td>\n",
       "      <td>33.611916</td>\n",
       "    </tr>\n",
       "  </tbody>\n",
       "</table>\n",
       "</div>"
      ],
      "text/plain": [
       "           N           M  Without heuristics  Path compression  \\\n",
       "6      100.0  10000000.0                 NaN         26.952810   \n",
       "1     1000.0  10000000.0          351.176704         28.023935   \n",
       "2    10000.0  10000000.0                 NaN         26.957127   \n",
       "3   100000.0  10000000.0                 NaN         29.208583   \n",
       "4  1000000.0  10000000.0                 NaN         40.756864   \n",
       "\n",
       "   Rank Optimization  Both heuristics  \n",
       "6          27.265362        27.895227  \n",
       "1          28.232699        28.004107  \n",
       "2          28.910091        28.237901  \n",
       "3          31.772558        30.697616  \n",
       "4          34.892936        33.611916  "
      ]
     },
     "execution_count": 80,
     "metadata": {},
     "output_type": "execute_result"
    }
   ],
   "source": [
    "graphBase"
   ]
  },
  {
   "cell_type": "code",
   "execution_count": 81,
   "metadata": {},
   "outputs": [
    {
     "data": {
      "image/png": "[encoded data removed]",
      "text/plain": [
       "<Figure size 432x288 with 1 Axes>"
      ]
     },
     "metadata": {
      "needs_background": "light"
     },
     "output_type": "display_data"
    }
   ],
   "source": [
    "for i in graphBase[['Path compression','Rank Optimization','Both heuristics']]:\n",
    "    plt.plot(graphBase['N'],graphBase[i],label=i,marker='o')\n",
    "plt.xlabel('N')\n",
    "plt.ylabel('Time(s)')\n",
    "plt.xscale('log')\n",
    "plt.yscale('log')\n",
    "plt.legend()\n",
    "plt.show()"
   ]
  },
  {
   "cell_type": "code",
   "execution_count": null,
   "metadata": {},
   "outputs": [],
   "source": []
  }
 ],
 "metadata": {
  "kernelspec": {
   "display_name": "Python 3.9.12 ('base')",
   "language": "python",
   "name": "python3"
  },
  "language_info": {
   "codemirror_mode": {
    "name": "ipython",
    "version": 3
   },
   "file_extension": ".py",
   "mimetype": "text/x-python",
   "name": "python",
   "nbconvert_exporter": "python",
   "pygments_lexer": "ipython3",
   "version": "3.9.12"
  },
  "orig_nbformat": 4,
  "vscode": {
   "interpreter": {
    "hash": "68b9387bff0d19887c4b2bb13f5e62d85384c00439677ba06d731dfda91f292c"
   }
  }
 },
 "nbformat": 4,
 "nbformat_minor": 2
}
